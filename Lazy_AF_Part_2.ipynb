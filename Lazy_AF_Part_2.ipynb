{
  "nbformat": 4,
  "nbformat_minor": 0,
  "metadata": {
    "colab": {
      "provenance": [],
      "authorship_tag": "ABX9TyNoeSSBLF2XDNJ8LjEx/nVo",
      "include_colab_link": true
    },
    "kernelspec": {
      "name": "python3",
      "display_name": "Python 3"
    },
    "language_info": {
      "name": "python"
    }
  },
  "cells": [
    {
      "cell_type": "markdown",
      "metadata": {
        "id": "view-in-github",
        "colab_type": "text"
      },
      "source": [
        "<a href=\"https://colab.research.google.com/github/ThomasCMcLean/Lazy_AF/blob/main/Lazy_AF_Part_2.ipynb\" target=\"_parent\"><img src=\"https://colab.research.google.com/assets/colab-badge.svg\" alt=\"Open In Colab\"/></a>"
      ]
    },
    {
      "cell_type": "markdown",
      "source": [
        "### **Lazy_AF Workflow Part 2**"
      ],
      "metadata": {
        "id": "govQ1XcjeYSg"
      }
    },
    {
      "cell_type": "code",
      "source": [
        "#@title Mount google drive\n",
        "from google.colab import drive\n",
        "drive.mount('/content/drive')\n",
        "from sys import version_info\n",
        "python_version = f\"{version_info.major}.{version_info.minor}\""
      ],
      "metadata": {
        "id": "mX3Dd2ZNeqq7",
        "colab": {
          "base_uri": "https://localhost:8080/"
        },
        "outputId": "d759c45c-940d-467d-915f-79c47cda5b7a",
        "cellView": "form"
      },
      "execution_count": null,
      "outputs": [
        {
          "output_type": "stream",
          "name": "stdout",
          "text": [
            "Mounted at /content/drive\n"
          ]
        }
      ]
    },
    {
      "cell_type": "code",
      "source": [
        "#@title Input source directory containing colabfold results and a destination directory\n",
        "from google.colab import drive\n",
        "drive.mount('/content/drive')\n",
        "\n",
        "import shutil\n",
        "import glob\n",
        "import os\n",
        "\n",
        "# Source directory containing the JSON files\n",
        "source_directory = '/content/drive/MyDrive/results' #@param {type:\"string\"}\n",
        "\n",
        "# Destination directory for rank1only\n",
        "destination_directory = '/content/drive/MyDrive/analysis' #@param {type:\"string\"}\n",
        "\n",
        "# Create the destination directory if it doesn't exist\n",
        "os.makedirs(destination_directory, exist_ok=True)\n",
        "\n",
        "# Define the pattern to match files\n",
        "pattern = '*_rank_001*.json'\n",
        "\n",
        "# Find files matching the pattern in the source directory\n",
        "matching_files = glob.glob(os.path.join(source_directory, pattern))\n",
        "\n",
        "# Copy matching files to the destination directory\n",
        "for file_path in matching_files:\n",
        "    shutil.copy(file_path, destination_directory)\n",
        "\n",
        "print(\"Files have been copied to 'rank1only' directory.\")\n",
        "\n"
      ],
      "metadata": {
        "id": "GMqFOU0SeAEO",
        "cellView": "form"
      },
      "execution_count": null,
      "outputs": []
    },
    {
      "cell_type": "code",
      "source": [
        "#@title name your output csv file\n",
        "\n",
        "# final file name\n",
        "csv_name = 'Output' #@param {type:\"string\"}\n",
        "\n",
        "import json\n",
        "import os\n",
        "import pandas as pd\n",
        "\n",
        "# Function to extract PTM and IPTM values from a JSON file\n",
        "def extract_ptm_iptm(json_file):\n",
        "    with open(json_file, 'r') as file:\n",
        "        data = json.load(file)\n",
        "\n",
        "    ptm = data['ptm']\n",
        "    iptm = data['iptm']\n",
        "\n",
        "    return {'ptm': ptm, 'iptm': iptm}\n",
        "\n",
        "# Directory where your JSON files are located\n",
        "json_folder = destination_directory  # Replace with the actual folder path\n",
        "csv_file_path = os.path.join(json_folder, csv_name + '.csv')\n",
        "\n",
        "# List all JSON files in the folder\n",
        "json_files = [os.path.join(json_folder, file) for file in os.listdir(json_folder) if file.endswith('.json')]\n",
        "\n",
        "# Create an empty data frame to store the extracted data\n",
        "result_data = pd.DataFrame(columns=['Protein1', 'Protein2', 'PTM', 'IPTM'])\n",
        "\n",
        "# Iterate through the list of JSON files\n",
        "for json_file_path in json_files:\n",
        "    # Extract the base name without extension\n",
        "    file_name = os.path.splitext(os.path.basename(json_file_path))[0]\n",
        "\n",
        "    # Extract everything before the first underscore\n",
        "    file_name_parts = file_name.split('_scores')\n",
        "    file_name_short = file_name_parts[0]\n",
        "\n",
        "    # Call the function to extract PTM and IPTM values\n",
        "    ptm_iptm_values = extract_ptm_iptm(json_file_path)\n",
        "\n",
        "    # Access PTM and IPTM values\n",
        "    ptm_value = ptm_iptm_values['ptm']\n",
        "    iptm_value = ptm_iptm_values['iptm']\n",
        "\n",
        "    # Split the first column using \"-\"\n",
        "    protein_names = file_name_short.split('_RK2_')\n",
        "\n",
        "    # Create a data frame for the current JSON file\n",
        "    file_data = pd.DataFrame({\n",
        "        'Protein1': [protein_names[0]],\n",
        "        'Protein2': [protein_names[1]],\n",
        "        'PTM': [ptm_value],\n",
        "        'IPTM': [iptm_value],\n",
        "        'Ranking_confidence': [0.2 * ptm_value + 0.8 * iptm_value]\n",
        "    })\n",
        "\n",
        "    # Append the current file's data to the result_data data frame\n",
        "    result_data = pd.concat([result_data, file_data], ignore_index=True)\n",
        "\n",
        "# Save the data to a CSV file\n",
        "result_data.to_csv(csv_file_path, index=False)"
      ],
      "metadata": {
        "id": "3bUvkQ7sZYFj",
        "cellView": "form"
      },
      "execution_count": null,
      "outputs": []
    },
    {
      "cell_type": "code",
      "source": [],
      "metadata": {
        "id": "cP9xCV6bbKfe"
      },
      "execution_count": null,
      "outputs": []
    }
  ]
}