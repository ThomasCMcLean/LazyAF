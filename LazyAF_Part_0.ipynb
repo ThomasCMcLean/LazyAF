{
  "nbformat": 4,
  "nbformat_minor": 0,
  "metadata": {
    "colab": {
      "provenance": [],
      "authorship_tag": "ABX9TyO5peUid1I00D1gPKO1fQVF",
      "include_colab_link": true
    },
    "kernelspec": {
      "name": "python3",
      "display_name": "Python 3"
    },
    "language_info": {
      "name": "python"
    }
  },
  "cells": [
    {
      "cell_type": "markdown",
      "metadata": {
        "id": "view-in-github",
        "colab_type": "text"
      },
      "source": [
        "<a href=\"https://colab.research.google.com/github/ThomasCMcLean/LazyAF/blob/main/LazyAF_Part_0.ipynb\" target=\"_parent\"><img src=\"https://colab.research.google.com/assets/colab-badge.svg\" alt=\"Open In Colab\"/></a>"
      ]
    },
    {
      "cell_type": "markdown",
      "source": [
        "### **BETA - LazyAF Pipeline Part 0**\n",
        "\n",
        "This NEW part of the pipeline is currently designed to feed into LazyAF Part 1\n",
        "\n",
        "**Usage**\n",
        "\n",
        "Part 0 is designed to add a `[protein_id]`to the fasta headers of your protein sequences if they do not already have an identifier suitible for Part 1.\n",
        "\n",
        "You will need to have your .txt file with your unmodified candidate fastas in a folder in your Google Drive, this is your `input_dir`. Results will be sent to the `result_dir`.\n",
        "\n",
        "Please specify the `input_file` name including .txt.\n",
        "\n",
        "Once you have done the modelling you can then proceed to **LazyAF Part 1**\n",
        "\n",
        "For details, refer to our [manuscript](https://www.biorxiv.org/content/10.1101/2024.01.29.577767v1)\n",
        "\n",
        "For more details checkout the [ColabFold GitHub](https://github.com/ThomasCMcLean/Lazy_AF).\n",
        "\n",
        "[@TomMcLean05](https://twitter.com/TomMcLean05)"
      ],
      "metadata": {
        "id": "LNYr5gXDqGVR"
      }
    },
    {
      "cell_type": "code",
      "execution_count": 11,
      "metadata": {
        "colab": {
          "base_uri": "https://localhost:8080/"
        },
        "cellView": "form",
        "id": "OS652p1jmL-R",
        "outputId": "63619646-e768-4042-d5cc-2aac7a13fc4d"
      },
      "outputs": [
        {
          "output_type": "stream",
          "name": "stdout",
          "text": [
            "Drive already mounted at /content/drive; to attempt to forcibly remount, call drive.mount(\"/content/drive\", force_remount=True).\n"
          ]
        }
      ],
      "source": [
        "#@title Mount google drive\n",
        "from google.colab import drive\n",
        "drive.mount('/content/drive')\n",
        "from sys import version_info\n",
        "python_version = f\"{version_info.major}.{version_info.minor}\""
      ]
    },
    {
      "cell_type": "code",
      "source": [
        "#@title Input directories and file name from Google Drive. Then runtime -> run all\n",
        "from google.colab import drive\n",
        "drive.mount('/content/drive')\n",
        "\n",
        "import os\n",
        "import re\n",
        "\n",
        "# Directory and input file locations\n",
        "input_dir = '/content/drive/MyDrive/unmodified' #@param {type:\"string\"}\n",
        "result_dir = '/content/drive/MyDrive/input' #@param {type:\"string\"}\n",
        "input_file = \"example.txt\" #@param {type:\"string\"}\n",
        "\n",
        "# Define function to modify FASTA headers\n",
        "def modify_fasta_headers(input_file, output_file):\n",
        "    with open(input_file, 'r') as f_in, open(output_file, 'w') as f_out:\n",
        "        for line in f_in:\n",
        "            if line.startswith('>'):\n",
        "                header = line.strip()\n",
        "                protein_id = header.split()[0][1:]\n",
        "                modified_header = f\"{header} [protein_id= {protein_id}]\"\n",
        "                f_out.write(modified_header + '\\n')\n",
        "            else:\n",
        "                f_out.write(line)\n",
        "\n",
        "# Ensure output directory exists, if not, create it\n",
        "if not os.path.exists(result_dir):\n",
        "    os.makedirs(result_dir)\n",
        "\n",
        "# Input and output file paths\n",
        "input_file_path = os.path.join(input_dir, input_file)\n",
        "output_file_path = os.path.join(result_dir, \"modified_input.txt\")\n",
        "\n",
        "# Modify FASTA headers\n",
        "modify_fasta_headers(input_file_path, output_file_path)\n",
        "\n",
        "print(\"FASTA headers modified successfully.\")"
      ],
      "metadata": {
        "colab": {
          "base_uri": "https://localhost:8080/"
        },
        "cellView": "form",
        "id": "5xzEUYsmmMnQ",
        "outputId": "50e9e29f-7e18-4260-9fd5-237ac23d59e1"
      },
      "execution_count": 12,
      "outputs": [
        {
          "output_type": "stream",
          "name": "stdout",
          "text": [
            "Drive already mounted at /content/drive; to attempt to forcibly remount, call drive.mount(\"/content/drive\", force_remount=True).\n",
            "FASTA headers modified successfully.\n"
          ]
        }
      ]
    }
  ]
}