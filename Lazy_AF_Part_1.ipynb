{
  "nbformat": 4,
  "nbformat_minor": 0,
  "metadata": {
    "colab": {
      "provenance": [],
      "authorship_tag": "ABX9TyPRBbaGeG1ae3y9tgZx5DqS",
      "include_colab_link": true
    },
    "kernelspec": {
      "name": "python3",
      "display_name": "Python 3"
    },
    "language_info": {
      "name": "python"
    }
  },
  "cells": [
    {
      "cell_type": "markdown",
      "metadata": {
        "id": "view-in-github",
        "colab_type": "text"
      },
      "source": [
        "<a href=\"https://colab.research.google.com/github/ThomasCMcLean/Lazy_AF/blob/main/Lazy_AF_Part_1.ipynb\" target=\"_parent\"><img src=\"https://colab.research.google.com/assets/colab-badge.svg\" alt=\"Open In Colab\"/></a>"
      ]
    },
    {
      "cell_type": "markdown",
      "source": [
        "### **Lazy_AF Workflow Part 1**\n",
        "\n",
        "This workflow is currently designed to feed into [AlphaFold2_BATCH](https://colab.research.google.com/github/sokrypton/ColabFold/blob/v1.5.2/batch/AlphaFold2_batch.ipynb) for high-throughput protein structure and complex prediction.\n",
        "\n",
        "**Usage**\n",
        "\n",
        "You will need to have your .txt file with target fastas in a folder in your Google Drive, this is your `input_dir`. Results will be sent to the `result_dir`.\n",
        "\n",
        "Please specify the `input_file` name including .txt. Please also inculde your bait sequence (`protein_sequence`) and bait name (`protein_name`).\n",
        "\n",
        "**N.B. Your fasta identifier must either have a [gene=] and/or a [protein_id=] in their title otherwise it will not be included in the output**\n",
        "\n",
        "Once you have done the modelling you can rank the results using **Lazy_AF Part 2** : https://colab.research.google.com/drive/1j7WJLcUHTR8BrjkWDaU549rFk6X5Zu18#scrollTo=GMqFOU0SeAEO\n",
        "\n",
        "For details, refer to our manuscript: *in prep*\n",
        "\n",
        "For more details checkout the [ColabFold GitHub](https://github.com/ThomasCMcLean/Lazy_AF)."
      ],
      "metadata": {
        "id": "M_CoJNzed49A"
      }
    },
    {
      "cell_type": "code",
      "source": [
        "#@title Mount google drive\n",
        "from google.colab import drive\n",
        "drive.mount('/content/drive')\n",
        "from sys import version_info\n",
        "python_version = f\"{version_info.major}.{version_info.minor}\""
      ],
      "metadata": {
        "id": "mX3Dd2ZNeqq7",
        "cellView": "form"
      },
      "execution_count": null,
      "outputs": []
    },
    {
      "cell_type": "code",
      "source": [
        "#@title Input directories and file name from Google Drive. Then runtime -> run all\n",
        "from google.colab import drive\n",
        "drive.mount('/content/drive')\n",
        "\n",
        "import os\n",
        "import re\n",
        "\n",
        "# Directory and input file locations\n",
        "input_dir = '/content/drive/MyDrive/input' #@param {type:\"string\"}\n",
        "result_dir = '/content/drive/MyDrive/results' #@param {type:\"string\"}\n",
        "input_file = \"genome.txt\" #@param {type:\"string\"}\n",
        "\n",
        "# Read the input .txt file\n",
        "with open(os.path.join(input_dir, input_file), 'r') as file:\n",
        "    txt_data = file.readlines()\n",
        "\n",
        "# Input bait protein sequence and bait protein name\n",
        "protein_sequence = \"MSEPVLAVSGVNKSFPIYRSPWQALWHALNPKADVKVFQALRDIELTVYRGETIGIVGHN\" #@param {type:\"string\"}\n",
        "protein_name = \"AbcA\" #@param {type:\"string\"}\n",
        "\n",
        "# Initialize variables to store gene data\n",
        "gene_data = {}\n",
        "current_gene_name = None\n",
        "divide = ':'\n",
        "\n",
        "# Create the result directory if it doesn't exist\n",
        "os.makedirs(result_dir, exist_ok=True)\n",
        "\n",
        "# Loop through the lines of the input file\n",
        "for line in txt_data:\n",
        "    # Check if the line contains the gene name\n",
        "    gene_name_match = re.search(r'\\[gene=(.*?)\\]', line)\n",
        "    if gene_name_match:\n",
        "        current_gene_name = gene_name_match.group(1)\n",
        "        gene_data[current_gene_name] = [line]\n",
        "    else:\n",
        "        # If gene name is not found, check for protein_id\n",
        "        protein_id_match = re.search(r'\\[protein_id=(.*?)\\]', line)\n",
        "        if protein_id_match:\n",
        "            current_gene_name = protein_id_match.group(1)\n",
        "            gene_data[current_gene_name] = [line]\n",
        "        elif current_gene_name is not None:\n",
        "            # If neither gene name nor protein_id is found, append the line to the current gene data\n",
        "            gene_data[current_gene_name].append(line)\n",
        "\n",
        "# Create .fasta files for each gene and append the protein sequence and name\n",
        "for gene_name, gene_content in gene_data.items():\n",
        "    fasta_content = gene_content + [divide] + [protein_sequence]\n",
        "    output_file = os.path.join(result_dir, f\"{gene_name}_{protein_name}.fasta\")\n",
        "    with open(output_file, 'w') as file:\n",
        "        file.writelines(fasta_content)"
      ],
      "metadata": {
        "id": "GMqFOU0SeAEO",
        "cellView": "form"
      },
      "execution_count": null,
      "outputs": []
    }
  ]
}